{
 "cells": [
  {
   "cell_type": "code",
   "execution_count": 3,
   "id": "4f79b8a6-7a20-4d99-93ad-8f05f7072224",
   "metadata": {
    "tags": []
   },
   "outputs": [],
   "source": [
    "import numpy as np\n",
    "from sklearn.metrics.pairwise import cosine_similarity\n",
    "\n",
    "# Dummy database of SMILES embeddings and likelihoods\n",
    "database = [\n",
    "    {\"smiles\": \"CCO\", \"embedding\": np.random.rand(4096), \"likelihood\": 0.9},     # Ethanol\n",
    "    {\"smiles\": \"CCl\", \"embedding\": np.random.rand(4096), \"likelihood\": 0.85},    # Chloromethane\n",
    "    \n",
    "]\n",
    "\n",
    "\n",
    "# Retrieve similar reactions based on cosine similarity\n",
    "def retrieve_similar_reactions(query_embedding, top_k=1):\n",
    "    embeddings = np.array([entry[\"embedding\"] for entry in database])\n",
    "    similarities = cosine_similarity([query_embedding], embeddings).flatten()\n",
    "    indices = similarities.argsort()[-top_k:][::-1]  # Get top K similar items\n",
    "    return [database[i] for i in indices]\n"
   ]
  },
  {
   "cell_type": "code",
   "execution_count": 5,
   "id": "c414d6de-b756-4fc6-aa0e-2b70127c5fb4",
   "metadata": {
    "tags": []
   },
   "outputs": [
    {
     "name": "stdout",
     "output_type": "stream",
     "text": [
      "Running on local URL:  http://127.0.0.1:7862\n",
      "Running on public URL: https://e4e25eef309851198d.gradio.live\n",
      "\n",
      "This share link expires in 72 hours. For free permanent hosting and GPU upgrades, run `gradio deploy` from Terminal to deploy to Spaces (https://huggingface.co/spaces)\n"
     ]
    },
    {
     "data": {
      "text/html": [
       "<div><iframe src=\"https://e4e25eef309851198d.gradio.live\" width=\"100%\" height=\"500\" allow=\"autoplay; camera; microphone; clipboard-read; clipboard-write;\" frameborder=\"0\" allowfullscreen></iframe></div>"
      ],
      "text/plain": [
       "<IPython.core.display.HTML object>"
      ]
     },
     "metadata": {},
     "output_type": "display_data"
    },
    {
     "data": {
      "text/plain": []
     },
     "execution_count": 5,
     "metadata": {},
     "output_type": "execute_result"
    },
    {
     "name": "stderr",
     "output_type": "stream",
     "text": [
      "[23:07:39] SMILES Parse Error: syntax error while parsing: CC+O\n",
      "[23:07:39] SMILES Parse Error: Failed parsing SMILES 'CC+O' for input: 'CC+O'\n"
     ]
    }
   ],
   "source": [
    "import openvino.runtime as ov\n",
    "import numpy as np\n",
    "from rdkit import Chem\n",
    "from rdkit.Chem import Draw\n",
    "from rdkit.Chem.rdFingerprintGenerator import GetMorganGenerator\n",
    "import gradio as gr\n",
    "from PIL import Image\n",
    "from sklearn.metrics.pairwise import cosine_similarity\n",
    "\n",
    "# Load OpenVINO model\n",
    "core = ov.Core()\n",
    "model_path = \"production_prediction_openvino1.xml\"  # Replace with your actual model path\n",
    "compiled_model = core.compile_model(core.read_model(model_path), \"CPU\")\n",
    "\n",
    "# Dummy database of SMILES embeddings and likelihoods \n",
    "# (Updated to have 4096-dimensional embeddings for consistency)\n",
    "database = [\n",
    "    {\"smiles\": \"CCO\", \"embedding\": np.random.rand(4096), \"likelihood\": 0.9},        # Ethanol\n",
    "    {\"smiles\": \"CCl\", \"embedding\": np.random.rand(4096), \"likelihood\": 0.85},      # Chloromethane\n",
    "    {\"smiles\": \"CC(=O)O\", \"embedding\": np.random.rand(4096), \"likelihood\": 0.8},   # Acetic acid\n",
    "    # ... add more entries with 4096-dimensional embeddings ...\n",
    "]\n",
    "\n",
    "# Retrieve similar reactions based on cosine similarity (using only reactant embedding)\n",
    "def retrieve_similar_reactions(query_embedding, top_k=1):\n",
    "    embeddings = np.array([entry[\"embedding\"] for entry in database])\n",
    "    similarities = cosine_similarity([query_embedding], embeddings).flatten()\n",
    "    indices = similarities.argsort()[-top_k:][::-1]  # Get top K similar items\n",
    "    return [database[i] for i in indices]\n",
    "\n",
    "# Fingerprint generator (updated fpSize)\n",
    "fp_generator = GetMorganGenerator(radius=2, fpSize=4096)\n",
    "\n",
    "# Predict function with RAG integration\n",
    "def predict_reaction_with_rag_openvino(reactant_smiles, product_smiles):\n",
    "    # Generate molecules from SMILES strings\n",
    "    reactant_mol = Chem.MolFromSmiles(reactant_smiles)\n",
    "    product_mol = Chem.MolFromSmiles(product_smiles)\n",
    "\n",
    "    if reactant_mol is None or product_mol is None:\n",
    "        return \"Invalid SMILES string. Please check your input.\", None, None, None\n",
    "\n",
    "    # Generate fingerprints\n",
    "    reactant_fp = np.array(fp_generator.GetFingerprint(reactant_mol))\n",
    "    product_fp = np.array(fp_generator.GetFingerprint(product_mol))\n",
    "    combined_fp = np.concatenate([reactant_fp, product_fp])  # Now has shape (8192,)\n",
    "\n",
    "    # Retrieve similar reactions using only the reactant embedding\n",
    "    similar_reactions = retrieve_similar_reactions(reactant_fp)\n",
    "\n",
    "    # Reshape for OpenVINO input\n",
    "    input_data = combined_fp.reshape(1, -1).astype(np.float32)  # Ensure correct shape (1, 8192)\n",
    "\n",
    "    # Run inference with OpenVINO\n",
    "    result = compiled_model([input_data])[0]\n",
    "    predicted_likelihood = result[0].item()\n",
    "\n",
    "    # Generate molecular images\n",
    "    reactant_img = Draw.MolToImage(reactant_mol, size=(200, 200))\n",
    "    product_img = Draw.MolToImage(product_mol, size=(200, 200))\n",
    "\n",
    "    # Display result\n",
    "    similar_likelihood = similar_reactions[0][\"likelihood\"] if similar_reactions else 0.0\n",
    "    return (\n",
    "        f\"Predicted Reaction Likelihood: {predicted_likelihood:.4f} (Augmented with similar likelihood: {similar_likelihood:.4f})\",\n",
    "        reactant_img,\n",
    "        product_img,\n",
    "        f\"True Likelihood: {predicted_likelihood:.4f}\"  # You might want to adjust this if you have true labels\n",
    "    )\n",
    "\n",
    "# Gradio Interface\n",
    "with gr.Blocks() as demo:\n",
    "    gr.Markdown(\"# Reaction Prediction with RAG Integration using OpenVINO\")\n",
    "\n",
    "    with gr.Row():\n",
    "        reactant_smiles = gr.Textbox(label=\"Reactant SMILES\", placeholder=\"Enter reactant SMILES (e.g., CCO for ethanol)\")\n",
    "        product_smiles = gr.Textbox(label=\"Product SMILES\", placeholder=\"Enter product SMILES (e.g., CCO for ethanol)\")\n",
    "\n",
    "    predict_button = gr.Button(\"Predict Reaction Likelihood\")\n",
    "\n",
    "    with gr.Row():\n",
    "        likelihood_output = gr.Textbox(label=\"Predicted Reaction Likelihood\")\n",
    "        reactant_image = gr.Image(type=\"pil\", label=\"Reactant Molecule\")\n",
    "        product_image = gr.Image(type=\"pil\", label=\"Product Molecule\")\n",
    "\n",
    "    predict_button.click(\n",
    "        predict_reaction_with_rag_openvino,\n",
    "        inputs=[reactant_smiles, product_smiles],\n",
    "        outputs=[likelihood_output, reactant_image, product_image, likelihood_output]\n",
    "    )\n",
    "\n",
    "# Launch the Gradio app\n",
    "demo.launch(share=True)\n",
    "\n"
   ]
  },
  {
   "cell_type": "code",
   "execution_count": null,
   "id": "a1a9b887-2238-468e-88f3-3817c81f851f",
   "metadata": {},
   "outputs": [],
   "source": []
  },
  {
   "cell_type": "code",
   "execution_count": null,
   "id": "bc1d7911-01c7-4c5f-9b79-5fab2ba530cb",
   "metadata": {},
   "outputs": [],
   "source": []
  }
 ],
 "metadata": {
  "kernelspec": {
   "display_name": "my-python-ipex3",
   "language": "python",
   "name": "my-python-ipex3"
  },
  "language_info": {
   "codemirror_mode": {
    "name": "ipython",
    "version": 3
   },
   "file_extension": ".py",
   "mimetype": "text/x-python",
   "name": "python",
   "nbconvert_exporter": "python",
   "pygments_lexer": "ipython3",
   "version": "3.9.18"
  }
 },
 "nbformat": 4,
 "nbformat_minor": 5
}
