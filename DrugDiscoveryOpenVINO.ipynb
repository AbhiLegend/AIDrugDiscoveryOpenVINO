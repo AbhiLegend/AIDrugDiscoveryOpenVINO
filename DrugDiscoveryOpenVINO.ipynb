{
 "cells": [
  {
   "cell_type": "code",
   "execution_count": null,
   "metadata": {
    "id": "nfBIbt-bXVxN"
   },
   "outputs": [],
   "source": [
    "%pip install -q \"openvino>=2023.1.0\""
   ]
  },
  {
   "cell_type": "code",
   "execution_count": 2,
   "metadata": {
    "id": "L8lzevYYX--c",
    "tags": []
   },
   "outputs": [
    {
     "name": "stdout",
     "output_type": "stream",
     "text": [
      "Collecting rdkit-pypi\n",
      "  Downloading rdkit_pypi-2022.9.5-cp39-cp39-manylinux_2_17_x86_64.manylinux2014_x86_64.whl.metadata (3.9 kB)\n",
      "Requirement already satisfied: numpy in /opt/app-root/lib/python3.9/site-packages (from rdkit-pypi) (1.26.4)\n",
      "Requirement already satisfied: Pillow in /opt/app-root/lib/python3.9/site-packages (from rdkit-pypi) (10.4.0)\n",
      "Downloading rdkit_pypi-2022.9.5-cp39-cp39-manylinux_2_17_x86_64.manylinux2014_x86_64.whl (29.4 MB)\n",
      "\u001b[2K   \u001b[90m━━━━━━━━━━━━━━━━━━━━━━━━━━━━━━━━━━━━━━━━\u001b[0m \u001b[32m29.4/29.4 MB\u001b[0m \u001b[31m63.1 MB/s\u001b[0m eta \u001b[36m0:00:00\u001b[0ma \u001b[36m0:00:01\u001b[0m\n",
      "\u001b[?25hInstalling collected packages: rdkit-pypi\n",
      "Successfully installed rdkit-pypi-2022.9.5\n",
      "Note: you may need to restart the kernel to use updated packages.\n"
     ]
    }
   ],
   "source": [
    "pip install rdkit-pypi"
   ]
  },
  {
   "cell_type": "code",
   "execution_count": 3,
   "metadata": {
    "id": "G0eIOqqrYsTl",
    "tags": []
   },
   "outputs": [
    {
     "name": "stderr",
     "output_type": "stream",
     "text": [
      "Failed to find the pandas get_adjustment() function to patch\n",
      "Failed to patch pandas - PandasTools will have limited functionality\n"
     ]
    }
   ],
   "source": [
    "from rdkit import Chem\n",
    "from rdkit.Chem import AllChem\n",
    "from rdkit.Chem import PandasTools\n",
    "from rdkit import RDConfig\n",
    "import torch\n",
    "import torch.nn as nn\n",
    "import torch.optim as optim\n",
    "import numpy as np\n",
    "from sklearn.model_selection import train_test_split\n",
    "from sklearn.metrics import mean_squared_error\n",
    "import os\n",
    "import pandas as pd\n"
   ]
  },
  {
   "cell_type": "code",
   "execution_count": null,
   "metadata": {
    "id": "44I8ZZXQcWkd"
   },
   "outputs": [],
   "source": []
  },
  {
   "cell_type": "code",
   "execution_count": 4,
   "metadata": {
    "id": "yU_vjDGwdZwe",
    "tags": []
   },
   "outputs": [],
   "source": [
    "# Replace 'path_to_file.tsv' with the actual file path\n",
    "file_path = 'logd74.tsv'\n",
    "\n",
    "# Load the dataset\n",
    "df = pd.read_csv(file_path, delimiter='\\t')"
   ]
  },
  {
   "cell_type": "code",
   "execution_count": 5,
   "metadata": {
    "id": "JBRitHQ6du_A",
    "tags": []
   },
   "outputs": [],
   "source": [
    "def smiles_to_fp(smiles, n_bits=2048):\n",
    "    mol = Chem.MolFromSmiles(smiles)\n",
    "    fp = AllChem.GetMorganFingerprintAsBitVect(mol, radius=2, nBits=n_bits)\n",
    "    return np.array(fp)\n",
    "\n",
    "df['fp'] = df['SMILES'].apply(smiles_to_fp)\n"
   ]
  },
  {
   "cell_type": "code",
   "execution_count": 6,
   "metadata": {
    "id": "6abIKXvid9GK",
    "tags": []
   },
   "outputs": [],
   "source": [
    "X = np.array(list(df['fp']))\n",
    "y = df['logD7.4'].values\n",
    "X_train, X_test, y_train, y_test = train_test_split(X, y, test_size=0.2, random_state=42)\n"
   ]
  },
  {
   "cell_type": "code",
   "execution_count": 7,
   "metadata": {
    "id": "uKmbW5kgeZZt",
    "tags": []
   },
   "outputs": [],
   "source": [
    "class Net(nn.Module):\n",
    "    def __init__(self):\n",
    "        super(Net, self).__init__()\n",
    "        self.fc1 = nn.Linear(2048, 1024)\n",
    "        self.fc2 = nn.Linear(1024, 512)\n",
    "        self.fc3 = nn.Linear(512, 1)\n",
    "\n",
    "    def forward(self, x):\n",
    "        x = torch.relu(self.fc1(x))\n",
    "        x = torch.relu(self.fc2(x))\n",
    "        return self.fc3(x)\n",
    "\n",
    "model = Net()\n"
   ]
  },
  {
   "cell_type": "code",
   "execution_count": 8,
   "metadata": {
    "id": "VBWZW68QebjH",
    "tags": []
   },
   "outputs": [
    {
     "name": "stdout",
     "output_type": "stream",
     "text": [
      "Epoch 1/100, Loss: 6.648157596588135\n",
      "Epoch 2/100, Loss: 5.432311534881592\n",
      "Epoch 3/100, Loss: 4.102224349975586\n",
      "Epoch 4/100, Loss: 2.8275883197784424\n",
      "Epoch 5/100, Loss: 2.735079526901245\n",
      "Epoch 6/100, Loss: 2.831037759780884\n",
      "Epoch 7/100, Loss: 2.1036057472229004\n",
      "Epoch 8/100, Loss: 1.5018304586410522\n",
      "Epoch 9/100, Loss: 1.2980132102966309\n",
      "Epoch 10/100, Loss: 1.2536022663116455\n",
      "Epoch 11/100, Loss: 1.1684857606887817\n",
      "Epoch 12/100, Loss: 1.0146806240081787\n",
      "Epoch 13/100, Loss: 0.8729823231697083\n",
      "Epoch 14/100, Loss: 0.8414508104324341\n",
      "Epoch 15/100, Loss: 0.9021915793418884\n",
      "Epoch 16/100, Loss: 0.9045400023460388\n",
      "Epoch 17/100, Loss: 0.7989816665649414\n",
      "Epoch 18/100, Loss: 0.6754276752471924\n",
      "Epoch 19/100, Loss: 0.6075586676597595\n",
      "Epoch 20/100, Loss: 0.590531587600708\n",
      "Epoch 21/100, Loss: 0.5808625817298889\n",
      "Epoch 22/100, Loss: 0.5506933927536011\n",
      "Epoch 23/100, Loss: 0.5063478946685791\n",
      "Epoch 24/100, Loss: 0.47458162903785706\n",
      "Epoch 25/100, Loss: 0.4714348018169403\n",
      "Epoch 26/100, Loss: 0.47927194833755493\n",
      "Epoch 27/100, Loss: 0.46758928894996643\n",
      "Epoch 28/100, Loss: 0.4347158670425415\n",
      "Epoch 29/100, Loss: 0.40364357829093933\n",
      "Epoch 30/100, Loss: 0.3886949121952057\n",
      "Epoch 31/100, Loss: 0.3830600082874298\n",
      "Epoch 32/100, Loss: 0.3724583089351654\n",
      "Epoch 33/100, Loss: 0.35224878787994385\n",
      "Epoch 34/100, Loss: 0.33068814873695374\n",
      "Epoch 35/100, Loss: 0.317548006772995\n",
      "Epoch 36/100, Loss: 0.3118737041950226\n",
      "Epoch 37/100, Loss: 0.3033374547958374\n",
      "Epoch 38/100, Loss: 0.2869907021522522\n",
      "Epoch 39/100, Loss: 0.2694090008735657\n",
      "Epoch 40/100, Loss: 0.2574450373649597\n",
      "Epoch 41/100, Loss: 0.24863234162330627\n",
      "Epoch 42/100, Loss: 0.23621700704097748\n",
      "Epoch 43/100, Loss: 0.21949200332164764\n",
      "Epoch 44/100, Loss: 0.2039104849100113\n",
      "Epoch 45/100, Loss: 0.19255296885967255\n",
      "Epoch 46/100, Loss: 0.18226653337478638\n",
      "Epoch 47/100, Loss: 0.16959966719150543\n",
      "Epoch 48/100, Loss: 0.1566278040409088\n",
      "Epoch 49/100, Loss: 0.14713221788406372\n",
      "Epoch 50/100, Loss: 0.14043129980564117\n",
      "Epoch 51/100, Loss: 0.13293233513832092\n",
      "Epoch 52/100, Loss: 0.12389963120222092\n",
      "Epoch 53/100, Loss: 0.1158083975315094\n",
      "Epoch 54/100, Loss: 0.10947965830564499\n",
      "Epoch 55/100, Loss: 0.10249016433954239\n",
      "Epoch 56/100, Loss: 0.09385520964860916\n",
      "Epoch 57/100, Loss: 0.08585897088050842\n",
      "Epoch 58/100, Loss: 0.07983259111642838\n",
      "Epoch 59/100, Loss: 0.0741293728351593\n",
      "Epoch 60/100, Loss: 0.06805580109357834\n",
      "Epoch 61/100, Loss: 0.06331851333379745\n",
      "Epoch 62/100, Loss: 0.06006651744246483\n",
      "Epoch 63/100, Loss: 0.056712716817855835\n",
      "Epoch 64/100, Loss: 0.053041331470012665\n",
      "Epoch 65/100, Loss: 0.04966116324067116\n",
      "Epoch 66/100, Loss: 0.046132367104291916\n",
      "Epoch 67/100, Loss: 0.04219814017415047\n",
      "Epoch 68/100, Loss: 0.038573965430259705\n",
      "Epoch 69/100, Loss: 0.03549572080373764\n",
      "Epoch 70/100, Loss: 0.03268000856041908\n",
      "Epoch 71/100, Loss: 0.030354971066117287\n",
      "Epoch 72/100, Loss: 0.028521684929728508\n",
      "Epoch 73/100, Loss: 0.026739919558167458\n",
      "Epoch 74/100, Loss: 0.025112830102443695\n",
      "Epoch 75/100, Loss: 0.023919571191072464\n",
      "Epoch 76/100, Loss: 0.0227879136800766\n",
      "Epoch 77/100, Loss: 0.0215403214097023\n",
      "Epoch 78/100, Loss: 0.02051110751926899\n",
      "Epoch 79/100, Loss: 0.01957124099135399\n",
      "Epoch 80/100, Loss: 0.01851305365562439\n",
      "Epoch 81/100, Loss: 0.01756848394870758\n",
      "Epoch 82/100, Loss: 0.01677674986422062\n",
      "Epoch 83/100, Loss: 0.015992285683751106\n",
      "Epoch 84/100, Loss: 0.01521962322294712\n",
      "Epoch 85/100, Loss: 0.014511635527014732\n",
      "Epoch 86/100, Loss: 0.013881340622901917\n",
      "Epoch 87/100, Loss: 0.01324960496276617\n",
      "Epoch 88/100, Loss: 0.012653661891818047\n",
      "Epoch 89/100, Loss: 0.01216934248805046\n",
      "Epoch 90/100, Loss: 0.011691774241626263\n",
      "Epoch 91/100, Loss: 0.01120750792324543\n",
      "Epoch 92/100, Loss: 0.01079786941409111\n",
      "Epoch 93/100, Loss: 0.010411228984594345\n",
      "Epoch 94/100, Loss: 0.01002188865095377\n",
      "Epoch 95/100, Loss: 0.009666924364864826\n",
      "Epoch 96/100, Loss: 0.009332372806966305\n",
      "Epoch 97/100, Loss: 0.008994465693831444\n",
      "Epoch 98/100, Loss: 0.008665930479764938\n",
      "Epoch 99/100, Loss: 0.008387340232729912\n",
      "Epoch 100/100, Loss: 0.008134672418236732\n"
     ]
    }
   ],
   "source": [
    "optimizer = optim.Adam(model.parameters(), lr=0.001)\n",
    "criterion = nn.MSELoss()\n",
    "\n",
    "X_train_tensor = torch.tensor(X_train, dtype=torch.float32)\n",
    "y_train_tensor = torch.tensor(y_train, dtype=torch.float32)\n",
    "\n",
    "epochs = 100\n",
    "for epoch in range(epochs):\n",
    "    optimizer.zero_grad()\n",
    "    outputs = model(X_train_tensor)\n",
    "    loss = criterion(outputs.squeeze(), y_train_tensor)\n",
    "    loss.backward()\n",
    "    optimizer.step()\n",
    "    print(f'Epoch {epoch+1}/{epochs}, Loss: {loss.item()}')\n"
   ]
  },
  {
   "cell_type": "code",
   "execution_count": 9,
   "metadata": {
    "id": "SYQVUhUhfB0I",
    "tags": []
   },
   "outputs": [
    {
     "name": "stdout",
     "output_type": "stream",
     "text": [
      "Test MSE: 0.6821909546852112\n"
     ]
    }
   ],
   "source": [
    "X_test_tensor = torch.tensor(X_test, dtype=torch.float32)\n",
    "y_test_tensor = torch.tensor(y_test, dtype=torch.float32)\n",
    "\n",
    "with torch.no_grad():\n",
    "    predicted = model(X_test_tensor).squeeze()\n",
    "    mse = mean_squared_error(y_test_tensor, predicted)\n",
    "    print(f'Test MSE: {mse}')\n"
   ]
  },
  {
   "cell_type": "code",
   "execution_count": 10,
   "metadata": {
    "id": "foE4850QfLY6",
    "tags": []
   },
   "outputs": [],
   "source": [
    "torch.save(model.state_dict(), 'lipophilicity_model.pth')\n"
   ]
  },
  {
   "cell_type": "code",
   "execution_count": 11,
   "metadata": {
    "id": "7lyzD3ASfWj-",
    "tags": []
   },
   "outputs": [
    {
     "data": {
      "image/png": "[encoded data removed]",
      "text/plain": [
       "<PIL.Image.Image image mode=RGBA size=1000x200>"
      ]
     },
     "metadata": {},
     "output_type": "display_data"
    }
   ],
   "source": [
    "from rdkit.Chem import Draw\n",
    "\n",
    "mols = [Chem.MolFromSmiles(smiles) for smiles in df['SMILES'][:5]]\n",
    "img = Draw.MolsToImage(mols)\n",
    "img.show()\n"
   ]
  },
  {
   "cell_type": "code",
   "execution_count": 12,
   "metadata": {
    "id": "oFdQFa8zf_6z",
    "tags": []
   },
   "outputs": [
    {
     "data": {
      "text/plain": [
       "Net(\n",
       "  (fc1): Linear(in_features=2048, out_features=1024, bias=True)\n",
       "  (fc2): Linear(in_features=1024, out_features=512, bias=True)\n",
       "  (fc3): Linear(in_features=512, out_features=1, bias=True)\n",
       ")"
      ]
     },
     "execution_count": 12,
     "metadata": {},
     "output_type": "execute_result"
    }
   ],
   "source": [
    "import torch\n",
    "import openvino.runtime as ov\n",
    "from pathlib import Path\n",
    "\n",
    "# Load your PyTorch model\n",
    "model = Net()  # Assuming 'Net' is your model class\n",
    "model.load_state_dict(torch.load('lipophilicity_model.pth'))\n",
    "model.eval()\n",
    "\n"
   ]
  },
  {
   "cell_type": "code",
   "execution_count": 13,
   "metadata": {
    "id": "gVIMAkEhgWNN",
    "tags": []
   },
   "outputs": [
    {
     "name": "stdout",
     "output_type": "stream",
     "text": [
      "Requirement already satisfied: onnx in /opt/app-root/lib/python3.9/site-packages (1.16.2)\n",
      "Requirement already satisfied: numpy>=1.20 in /opt/app-root/lib/python3.9/site-packages (from onnx) (1.26.4)\n",
      "Requirement already satisfied: protobuf>=3.20.2 in /opt/app-root/lib/python3.9/site-packages (from onnx) (4.25.4)\n",
      "Note: you may need to restart the kernel to use updated packages.\n"
     ]
    }
   ],
   "source": [
    "pip install onnx"
   ]
  },
  {
   "cell_type": "code",
   "execution_count": 14,
   "metadata": {
    "id": "Lvf6n0UAgIAz",
    "tags": []
   },
   "outputs": [],
   "source": [
    "import torch.onnx\n",
    "\n",
    "dummy_input = torch.randn(1, 2048)  # Adjust the size according to your model input\n",
    "torch.onnx.export(model, dummy_input, \"model.onnx\", opset_version=11)\n"
   ]
  },
  {
   "cell_type": "code",
   "execution_count": 16,
   "metadata": {
    "id": "Ip-0k89dgd0B",
    "tags": []
   },
   "outputs": [],
   "source": [
    "# Create OpenVINO Core object instance\n",
    "core = ov.Core()\n",
    "\n",
    "# Read the ONNX model\n",
    "ov_model = core.read_model(\"model.onnx\")\n",
    "\n",
    "# (Optional) Perform any necessary optimizations\n",
    "compiled_model = core.compile_model(ov_model, \"CPU\")\n"
   ]
  },
  {
   "cell_type": "code",
   "execution_count": 17,
   "metadata": {
    "id": "PCHlkEt6hlQn",
    "tags": []
   },
   "outputs": [],
   "source": [
    "MODEL_DIR = './'  # Specify your directory as a string\n",
    "MODEL_NAME = \"lipophilicity_openvino\"\n",
    "\n",
    "# Ensure that `ov_model` is the original OpenVINO model object\n",
    "# Save the OpenVINO model to disk\n",
    "ov.save_model(ov_model, MODEL_DIR + \"/\" + f\"{MODEL_NAME}.xml\")\n"
   ]
  },
  {
   "cell_type": "code",
   "execution_count": 18,
   "metadata": {
    "id": "lxdQVqsDiFdX",
    "tags": []
   },
   "outputs": [
    {
     "data": {
      "application/vnd.jupyter.widget-view+json": {
       "model_id": "1badb7226384423592ad232d5de2c50c",
       "version_major": 2,
       "version_minor": 0
      },
      "text/plain": [
       "Dropdown(description='Device:', index=1, options=('CPU', 'AUTO'), value='AUTO')"
      ]
     },
     "execution_count": 18,
     "metadata": {},
     "output_type": "execute_result"
    }
   ],
   "source": [
    "import ipywidgets as widgets\n",
    "\n",
    "device = widgets.Dropdown(\n",
    "    options=core.available_devices + [\"AUTO\"],\n",
    "    value='AUTO',\n",
    "    description='Device:',\n",
    "    disabled=False,\n",
    ")\n",
    "\n",
    "device"
   ]
  },
  {
   "cell_type": "code",
   "execution_count": 19,
   "metadata": {
    "id": "vC4WF0cpiHtR",
    "tags": []
   },
   "outputs": [
    {
     "data": {
      "text/plain": [
       "<CompiledModel:\n",
       "inputs[\n",
       "<ConstOutput: names[onnx::Gemm_0] shape[1,2048] type: f32>\n",
       "]\n",
       "outputs[\n",
       "<ConstOutput: names[11] shape[1,1] type: f32>\n",
       "]>"
      ]
     },
     "execution_count": 19,
     "metadata": {},
     "output_type": "execute_result"
    }
   ],
   "source": [
    "# Load OpenVINO model on device\n",
    "compiled_model = core.compile_model(ov_model, device.value)\n",
    "compiled_model"
   ]
  },
  {
   "cell_type": "code",
   "execution_count": 20,
   "metadata": {
    "id": "0ZTZbTLZjWtz",
    "tags": []
   },
   "outputs": [
    {
     "name": "stdout",
     "output_type": "stream",
     "text": [
      "Predicted Lipophilicity: [-1.1796875]\n"
     ]
    }
   ],
   "source": [
    "# Assuming you have a function to convert SMILES to fingerprints\n",
    "def smiles_to_fp(smiles, n_bits=2048):\n",
    "    mol = Chem.MolFromSmiles(smiles)\n",
    "    fp = AllChem.GetMorganFingerprintAsBitVect(mol, radius=2, nBits=n_bits)\n",
    "    return np.array(fp)\n",
    "\n",
    "# Example SMILES string\n",
    "smiles = \"C[C@H](N)C(=O)O\"  # Replace with your SMILES string\n",
    "\n",
    "# Prepare input tensor\n",
    "fp = smiles_to_fp(smiles)\n",
    "input_tensor = torch.tensor(fp, dtype=torch.float32).unsqueeze(0)  # Adding batch dimension\n",
    "\n",
    "# Convert PyTorch tensor to NumPy array\n",
    "input_numpy = input_tensor.numpy()\n",
    "\n",
    "# Create OpenVINO tensor from NumPy array\n",
    "ov_input_tensor = ov.Tensor(input_numpy)\n",
    "\n",
    "# Run model inference\n",
    "result = compiled_model([ov_input_tensor])[0]\n",
    "\n",
    "# Postprocess and display the result\n",
    "predicted_lipophilicity = result[0]  # Assuming the model outputs a single value\n",
    "print(f\"Predicted Lipophilicity: {predicted_lipophilicity}\")\n"
   ]
  },
  {
   "cell_type": "code",
   "execution_count": 22,
   "metadata": {
    "id": "vgR6f9CskTmF",
    "tags": []
   },
   "outputs": [
    {
     "name": "stdout",
     "output_type": "stream",
     "text": [
      "SMILES: C[C@H](N)C(=O)O, Predicted Lipophilicity: [-1.1796875]\n"
     ]
    },
    {
     "data": {
      "image/jpeg": "[encoded data removed]",
      "image/png": "[encoded data removed]",
      "text/plain": [
       "<PIL.PngImagePlugin.PngImageFile image mode=RGB size=300x300>"
      ]
     },
     "metadata": {},
     "output_type": "display_data"
    },
    {
     "name": "stdout",
     "output_type": "stream",
     "text": [
      "SMILES: CCO, Predicted Lipophilicity: [0.296875]\n"
     ]
    },
    {
     "data": {
      "image/jpeg": "[encoded data removed]",
      "image/png": "[encoded data removed]",
      "text/plain": [
       "<PIL.PngImagePlugin.PngImageFile image mode=RGB size=300x300>"
      ]
     },
     "metadata": {},
     "output_type": "display_data"
    },
    {
     "name": "stdout",
     "output_type": "stream",
     "text": [
      "SMILES: CCN(CC)CC, Predicted Lipophilicity: [0.91796875]\n"
     ]
    },
    {
     "data": {
      "image/jpeg": "[encoded data removed]",
      "image/png": "[encoded data removed]",
      "text/plain": [
       "<PIL.PngImagePlugin.PngImageFile image mode=RGB size=300x300>"
      ]
     },
     "metadata": {},
     "output_type": "display_data"
    }
   ],
   "source": [
    "from rdkit import Chem\n",
    "from rdkit.Chem import Draw\n",
    "import numpy as np\n",
    "import torch\n",
    "import openvino.runtime as ov\n",
    "\n",
    "# Load your PyTorch model (assuming it's already trained and saved)\n",
    "model = Net()  # Replace with your model class\n",
    "model.load_state_dict(torch.load('lipophilicity_model.pth'))\n",
    "model.eval()\n",
    "\n",
    "# OpenVINO setup (assuming you have already converted your model)\n",
    "core = ov.Core()\n",
    "ov_model = core.read_model('./lipophilicity_openvino.xml')\n",
    "compiled_model = core.compile_model(ov_model, \"CPU\")\n",
    "\n",
    "def predict_and_visualize(smiles):\n",
    "    # Convert SMILES to fingerprint\n",
    "    fp = smiles_to_fp(smiles)\n",
    "    input_tensor = torch.tensor(fp, dtype=torch.float32).unsqueeze(0)\n",
    "    input_numpy = input_tensor.numpy()\n",
    "\n",
    "    # Create OpenVINO tensor\n",
    "    ov_input_tensor = ov.Tensor(input_numpy)\n",
    "\n",
    "    # Run model inference\n",
    "    result = compiled_model([ov_input_tensor])[0]\n",
    "    predicted_lipophilicity = result[0]\n",
    "\n",
    "    # Visualize molecule\n",
    "    mol = Chem.MolFromSmiles(smiles)\n",
    "    img = Draw.MolToImage(mol)\n",
    "\n",
    "    return predicted_lipophilicity, img\n",
    "\n",
    "# Example usage\n",
    "smiles_list = [\"C[C@H](N)C(=O)O\", \"CCO\", \"CCN(CC)CC\"]  # Replace with your SMILES strings\n",
    "for smiles in smiles_list:\n",
    "    lipophilicity, img = predict_and_visualize(smiles)\n",
    "    print(f\"SMILES: {smiles}, Predicted Lipophilicity: {lipophilicity}\")\n",
    "    display(img)\n"
   ]
  },
  {
   "cell_type": "code",
   "execution_count": null,
   "metadata": {},
   "outputs": [],
   "source": []
  }
 ],
 "metadata": {
  "colab": {
   "private_outputs": true,
   "provenance": []
  },
  "kernelspec": {
   "display_name": "Python 3.9",
   "language": "python",
   "name": "python3"
  },
  "language_info": {
   "codemirror_mode": {
    "name": "ipython",
    "version": 3
   },
   "file_extension": ".py",
   "mimetype": "text/x-python",
   "name": "python",
   "nbconvert_exporter": "python",
   "pygments_lexer": "ipython3",
   "version": "3.9.18"
  }
 },
 "nbformat": 4,
 "nbformat_minor": 4
}
