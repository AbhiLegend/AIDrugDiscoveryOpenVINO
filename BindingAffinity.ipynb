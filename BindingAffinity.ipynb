{
 "cells": [
  {
   "cell_type": "code",
   "execution_count": 1,
   "id": "099c3eea-6711-4270-8420-50a5917f9e34",
   "metadata": {
    "tags": []
   },
   "outputs": [
    {
     "name": "stdout",
     "output_type": "stream",
     "text": [
      "Epoch 1, Loss: 0.06472690403461456\n",
      "Epoch 2, Loss: 0.029956413432955742\n",
      "Epoch 3, Loss: 0.08099202811717987\n",
      "Epoch 4, Loss: 0.09622466564178467\n",
      "Epoch 5, Loss: 0.07774963974952698\n",
      "Epoch 6, Loss: 0.08703283220529556\n",
      "Epoch 7, Loss: 0.06383894383907318\n",
      "Epoch 8, Loss: 0.07926104962825775\n",
      "Epoch 9, Loss: 0.039134036749601364\n"
     ]
    },
    {
     "name": "stderr",
     "output_type": "stream",
     "text": [
      "Traceback (most recent call last):\n",
      "  File \"/opt/app-root/lib64/python3.9/site-packages/torch/_inductor/compile_worker/__main__.py\", line 45, in <module>\n",
      "    main()\n",
      "  File \"/opt/app-root/lib64/python3.9/site-packages/torch/_inductor/compile_worker/__main__.py\", line 38, in main\n",
      "    pre_fork_setup()\n",
      "  File \"/opt/app-root/lib64/python3.9/site-packages/torch/_inductor/async_compile.py\", line 62, in pre_fork_setup\n",
      "    from triton.compiler.compiler import triton_key\n",
      "ImportError: cannot import name 'triton_key' from 'triton.compiler.compiler' (/opt/app-root/lib64/python3.9/site-packages/triton/compiler/compiler.py)\n",
      "W1113 20:25:29.133145 140099703322176 intel_extension_for_pytorch/utils/_logger.py:72] SubprocPool unclean exit\n"
     ]
    },
    {
     "name": "stdout",
     "output_type": "stream",
     "text": [
      "Epoch 10, Loss: 0.028912115842103958\n"
     ]
    }
   ],
   "source": [
    "import torch\n",
    "import torch.nn as nn\n",
    "from torch.utils.data import DataLoader, Dataset\n",
    "import numpy as np\n",
    "import intel_extension_for_pytorch as ipex  # Import IPEX\n",
    "\n",
    "# Example dataset class\n",
    "class BindingAffinityDataset(Dataset):\n",
    "    def __init__(self, data):\n",
    "        self.data = data\n",
    "    \n",
    "    def __len__(self):\n",
    "        return len(self.data)\n",
    "    \n",
    "    def __getitem__(self, idx):\n",
    "        features = self.data[idx][\"features\"]  # Example features\n",
    "        label = self.data[idx][\"binding_affinity\"]\n",
    "        return torch.tensor(features, dtype=torch.float32), torch.tensor(label, dtype=torch.float32)\n",
    "\n",
    "# Simple neural network for demonstration (e.g., for fingerprint or graph features)\n",
    "class BindingAffinityModel(nn.Module):\n",
    "    def __init__(self):\n",
    "        super(BindingAffinityModel, self).__init__()\n",
    "        self.fc1 = nn.Linear(2048, 512)\n",
    "        self.fc2 = nn.Linear(512, 128)\n",
    "        self.fc3 = nn.Linear(128, 1)\n",
    "    \n",
    "    def forward(self, x):\n",
    "        x = torch.relu(self.fc1(x))\n",
    "        x = torch.relu(self.fc2(x))\n",
    "        x = self.fc3(x)\n",
    "        return x\n",
    "\n",
    "# Load and preprocess your data\n",
    "data = [\n",
    "    {\"features\": np.random.rand(2048), \"binding_affinity\": np.random.rand()} for _ in range(1000)\n",
    "]\n",
    "dataset = BindingAffinityDataset(data)\n",
    "data_loader = DataLoader(dataset, batch_size=32, shuffle=True)\n",
    "\n",
    "# Instantiate the model and optimizer\n",
    "model = BindingAffinityModel()\n",
    "optimizer = torch.optim.Adam(model.parameters(), lr=0.001)\n",
    "\n",
    "# Optimize with IPEX by scripting the model\n",
    "model = torch.jit.script(model)  # Use scripting to prepare for IPEX optimizations\n",
    "model, optimizer = ipex.optimize(model, optimizer=optimizer)  # Pass both model and optimizer\n",
    "\n",
    "criterion = nn.MSELoss()  # Loss function for regression\n",
    "\n",
    "# Simple training loop with IPEX\n",
    "for epoch in range(10):\n",
    "    for features, labels in data_loader:\n",
    "        optimizer.zero_grad()\n",
    "        outputs = model(features)\n",
    "        loss = criterion(outputs.squeeze(), labels)\n",
    "        loss.backward()\n",
    "        optimizer.step()\n",
    "    print(f\"Epoch {epoch+1}, Loss: {loss.item()}\")\n",
    "\n",
    "# Save the trained model in ONNX format with IPEX support\n",
    "torch.onnx.export(model, torch.randn(1, 2048), \"binding_affinity_model_ipex.onnx\", input_names=['input'], output_names=['output'])\n",
    "\n",
    "\n"
   ]
  },
  {
   "cell_type": "code",
   "execution_count": 2,
   "id": "6394f094-80c8-4550-891f-5c266bf0380f",
   "metadata": {
    "tags": []
   },
   "outputs": [],
   "source": [
    "import openvino.runtime as ov\n",
    "\n",
    "# Create OpenVINO Core object instance\n",
    "core = ov.Core()\n",
    "\n",
    "# Define the model directory and name\n",
    "MODEL_DIR = './'  # Specify your directory as a string\n",
    "MODEL_NAME = \"binding_affinity_model_openvino\"\n",
    "\n",
    "# Read the ONNX model\n",
    "ov_model = core.read_model(\"binding_affinity_model_ipex.onnx\")\n",
    "\n",
    "# Compile the model for the specified device\n",
    "compiled_model = core.compile_model(ov_model, \"CPU\")\n",
    "\n",
    "# Save the OpenVINO model to disk in IR format\n",
    "ov.serialize(ov_model, MODEL_DIR + \"/\" + f\"{MODEL_NAME}.xml\")\n"
   ]
  },
  {
   "cell_type": "code",
   "execution_count": 3,
   "id": "9e20f7ea-e4f2-4bff-8d01-3f90b19727b5",
   "metadata": {
    "tags": []
   },
   "outputs": [
    {
     "name": "stdout",
     "output_type": "stream",
     "text": [
      "Predicted Binding Affinity: [0.64453125]\n"
     ]
    }
   ],
   "source": [
    "import openvino.runtime as ov\n",
    "import numpy as np\n",
    "\n",
    "# Load the OpenVINO model\n",
    "core = ov.Core()\n",
    "model = core.read_model(\"binding_affinity_model_openvino.xml\")\n",
    "compiled_model = core.compile_model(model, \"CPU\")\n",
    "\n",
    "# Prepare a sample input\n",
    "sample_input = np.random.rand(1, 2048).astype(np.float32)  # Replace with real fingerprint data\n",
    "\n",
    "# Run inference\n",
    "output = compiled_model([sample_input])[0]\n",
    "print(\"Predicted Binding Affinity:\", output[0])\n"
   ]
  },
  {
   "cell_type": "code",
   "execution_count": null,
   "id": "11eccf05-ebf5-4ca4-b220-74087b992c03",
   "metadata": {},
   "outputs": [],
   "source": []
  },
  {
   "cell_type": "code",
   "execution_count": null,
   "id": "5cfd1c77-bc70-4677-91b9-0af35318c473",
   "metadata": {},
   "outputs": [],
   "source": []
  }
 ],
 "metadata": {
  "kernelspec": {
   "display_name": "my-python-ipex4",
   "language": "python",
   "name": "my-python-ipex4"
  },
  "language_info": {
   "codemirror_mode": {
    "name": "ipython",
    "version": 3
   },
   "file_extension": ".py",
   "mimetype": "text/x-python",
   "name": "python",
   "nbconvert_exporter": "python",
   "pygments_lexer": "ipython3",
   "version": "3.9.18"
  }
 },
 "nbformat": 4,
 "nbformat_minor": 5
}
